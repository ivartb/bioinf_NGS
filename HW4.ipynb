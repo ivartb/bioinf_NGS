{
 "cells": [
  {
   "cell_type": "code",
   "execution_count": 1,
   "id": "abandoned-advice",
   "metadata": {},
   "outputs": [],
   "source": [
    "import pysam\n",
    "from Bio import SeqIO\n",
    "import numpy as np\n",
    "import pandas as pd\n",
    "import matplotlib.pyplot as plt\n",
    "from collections import Counter\n",
    "from tqdm import tqdm"
   ]
  },
  {
   "cell_type": "code",
   "execution_count": 24,
   "id": "destroyed-thanks",
   "metadata": {},
   "outputs": [
    {
     "name": "stderr",
     "output_type": "stream",
     "text": [
      "10000it [00:06, 1449.45it/s]"
     ]
    },
    {
     "name": "stdout",
     "output_type": "stream",
     "text": [
      "===== ecoli_10K & BayesHammer =====\n",
      "         error  correct  absent\n",
      "error     1562     6175     706\n",
      "correct     11  5168796   58838\n"
     ]
    },
    {
     "name": "stderr",
     "output_type": "stream",
     "text": [
      "\n"
     ]
    }
   ],
   "source": [
    "samfile = pysam.AlignmentFile(\"ecoli_10K_sorted.bam\", \"rb\")\n",
    "samfile_corr = pysam.AlignmentFile(\"ecoli_10K_corr_sorted.bam\", \"rb\")\n",
    "genome = next(SeqIO.parse(\"MG1655-K12.first10K.fasta\", \"fasta\")).seq\n",
    "\n",
    "SNP = np.zeros((2, 3), dtype=np.int64)\n",
    "\n",
    "p = samfile.pileup('gi|49175990|ref|NC_000913.2|')\n",
    "p_corr = samfile_corr.pileup('gi|49175990|ref|NC_000913.2|')\n",
    "\n",
    "for x, y in tqdm(zip(p, p_corr)):\n",
    "    pos_x = x.reference_pos\n",
    "    pos_y = y.reference_pos\n",
    "    if pos_x != pos_y:\n",
    "        raise RuntimeError(\"pos_x != pos_y\")\n",
    "    \n",
    "    gen = genome[pos_x].upper()\n",
    "    \n",
    "    vals = dict(zip(x.get_query_names(), x.get_query_sequences()))\n",
    "    corrs = dict(zip(y.get_query_names(), y.get_query_sequences()))\n",
    "    \n",
    "    for k, v in vals.items():\n",
    "        if v.upper() == gen:\n",
    "            k1 = 1\n",
    "        else:\n",
    "            k1 = 0\n",
    "        if k in corrs:\n",
    "            w = corrs[k]\n",
    "            if w.upper() == 'N':\n",
    "                k2 = 2\n",
    "            elif w.upper() == gen:\n",
    "                k2 = 1\n",
    "            else:\n",
    "                k2 = 0\n",
    "        else:\n",
    "            k2 = 2\n",
    "        SNP[k1, k2] += 1\n",
    "\n",
    "SNP = pd.DataFrame(SNP, index=['error', 'correct'], columns=['error', 'correct', 'absent'])\n",
    "print(\"===== ecoli_10K & BayesHammer =====\")\n",
    "print(SNP)"
   ]
  },
  {
   "cell_type": "markdown",
   "id": "transparent-huntington",
   "metadata": {},
   "source": [
    "spades.py -1 ecoli_400K_err_1.fastq.gz -2 ecoli_400K_err_2.fastq.gz --only-error-correction -o ecoli_400K -t 6\n",
    "\n",
    "bwa index MG1655-K12.first400K.fasta\n",
    "\n",
    "bwa mem MG1655-K12.first400K.fasta ecoli_400K_err_1.fastq.gz ecoli_400K_err_2.fastq.gz > ecoli_400K.sam\n",
    "\n",
    "samtools view -b ecoli_400K.sam > ecoli_400K.bam && samtools sort ecoli_400K.bam > ecoli_400K_sorted.bam && samtools index ecoli_400K_sorted.bam\n",
    "\n",
    "bwa mem MG1655-K12.first400K.fasta ecoli_400K/corrected/ecoli_400K_err_1.fastq.00.0_0.cor.fastq.gz ecoli_400K/corrected/ecoli_400K_err_2.fastq.00.0_0.cor.fastq.gz > ecoli_400K_corr.sam\n",
    "\n",
    "samtools view -b ecoli_400K_corr.sam > ecoli_400K_corr.bam && samtools sort ecoli_400K_corr.bam > ecoli_400K_corr_sorted.bam && samtools index ecoli_400K_corr_sorted.bam"
   ]
  },
  {
   "cell_type": "code",
   "execution_count": 25,
   "id": "whole-orlando",
   "metadata": {},
   "outputs": [
    {
     "name": "stderr",
     "output_type": "stream",
     "text": [
      "400000it [05:38, 1182.51it/s]"
     ]
    },
    {
     "name": "stdout",
     "output_type": "stream",
     "text": [
      "===== ecoli_400K & BayesHammer =====\n",
      "          error    correct   absent\n",
      "error    146044     267495    35743\n",
      "correct     331  244513618  4042921\n"
     ]
    },
    {
     "name": "stderr",
     "output_type": "stream",
     "text": [
      "\n"
     ]
    }
   ],
   "source": [
    "samfile = pysam.AlignmentFile(\"ecoli_400K_sorted.bam\", \"rb\")\n",
    "samfile_corr = pysam.AlignmentFile(\"ecoli_400K_corr_sorted.bam\", \"rb\")\n",
    "genome = next(SeqIO.parse(\"MG1655-K12.first400K.fasta\", \"fasta\")).seq\n",
    "\n",
    "SNP = np.zeros((2, 3), dtype=np.int64)\n",
    "\n",
    "p = samfile.pileup('gi|49175990|ref|NC_000913.2|')\n",
    "p_corr = samfile_corr.pileup('gi|49175990|ref|NC_000913.2|')\n",
    "\n",
    "for x, y in tqdm(zip(p, p_corr)):\n",
    "    pos_x = x.reference_pos\n",
    "    pos_y = y.reference_pos\n",
    "    if pos_x != pos_y:\n",
    "        raise RuntimeError(\"pos_x != pos_y\")\n",
    "    \n",
    "    gen = genome[pos_x].upper()\n",
    "    \n",
    "    vals = dict(zip(x.get_query_names(), x.get_query_sequences()))\n",
    "    corrs = dict(zip(y.get_query_names(), y.get_query_sequences()))\n",
    "    \n",
    "    for k, v in vals.items():\n",
    "        if v.upper() == gen:\n",
    "            k1 = 1\n",
    "        else:\n",
    "            k1 = 0\n",
    "        if k in corrs:\n",
    "            w = corrs[k]\n",
    "            if w.upper() == 'N':\n",
    "                k2 = 2\n",
    "            elif w.upper() == gen:\n",
    "                k2 = 1\n",
    "            else:\n",
    "                k2 = 0\n",
    "        else:\n",
    "            k2 = 2\n",
    "        SNP[k1, k2] += 1\n",
    "\n",
    "SNP = pd.DataFrame(SNP, index=['error', 'correct'], columns=['error', 'correct', 'absent'])\n",
    "print(\"===== ecoli_400K & BayesHammer =====\")\n",
    "print(SNP)"
   ]
  },
  {
   "cell_type": "markdown",
   "id": "interim-desktop",
   "metadata": {},
   "source": [
    "TrimmomaticPE -threads 6 ecoli_400K_err_1.fastq.gz ecoli_400K_err_2.fastq.gz ecoli_400K_trim_1.fastq ecoli_400K_trim_1u.fastq ecoli_400K_trim_2.fastq ecoli_400K_trim_2u.fastq LEADING:5 TRAILING:5 SLIDINGWINDOW:4:20 MINLEN:50\n",
    "\n",
    "Input Read Pairs: 1381602 Both Surviving: 1173279 (84.92%) Forward Only Surviving: 88372 (6.40%) Reverse Only Surviving: 87991 (6.37%) Dropped: 31960 (2.31%)"
   ]
  },
  {
   "cell_type": "code",
   "execution_count": 3,
   "id": "timely-angel",
   "metadata": {},
   "outputs": [
    {
     "name": "stderr",
     "output_type": "stream",
     "text": [
      "400000it [05:31, 1207.41it/s]"
     ]
    },
    {
     "name": "stdout",
     "output_type": "stream",
     "text": [
      "===== ecoli_400K & Trimmomatic =====\n",
      "          error    correct    absent\n",
      "error    267356        222    181704\n",
      "correct     181  211212238  37344451\n"
     ]
    },
    {
     "name": "stderr",
     "output_type": "stream",
     "text": [
      "\n"
     ]
    }
   ],
   "source": [
    "samfile = pysam.AlignmentFile(\"ecoli_400K_sorted.bam\", \"rb\")\n",
    "samfile_corr = pysam.AlignmentFile(\"ecoli_400K_trim_corr_sorted.bam\", \"rb\")\n",
    "genome = next(SeqIO.parse(\"MG1655-K12.first400K.fasta\", \"fasta\")).seq\n",
    "\n",
    "SNP = np.zeros((2, 3), dtype=np.int64)\n",
    "\n",
    "p = samfile.pileup('gi|49175990|ref|NC_000913.2|')\n",
    "p_corr = samfile_corr.pileup('gi|49175990|ref|NC_000913.2|')\n",
    "\n",
    "for x, y in tqdm(zip(p, p_corr)):\n",
    "    pos_x = x.reference_pos\n",
    "    pos_y = y.reference_pos\n",
    "    if pos_x != pos_y:\n",
    "        raise RuntimeError(\"pos_x != pos_y\")\n",
    "    \n",
    "    gen = genome[pos_x].upper()\n",
    "    \n",
    "    vals = dict(zip(x.get_query_names(), x.get_query_sequences()))\n",
    "    corrs = dict(zip(y.get_query_names(), y.get_query_sequences()))\n",
    "    \n",
    "    for k, v in vals.items():\n",
    "        if v.upper() == gen:\n",
    "            k1 = 1\n",
    "        else:\n",
    "            k1 = 0\n",
    "        if k in corrs:\n",
    "            w = corrs[k]\n",
    "            if w.upper() == gen:\n",
    "                k2 = 1\n",
    "            else:\n",
    "                k2 = 0\n",
    "        else:\n",
    "            k2 = 2\n",
    "        SNP[k1, k2] += 1\n",
    "\n",
    "SNP = pd.DataFrame(SNP, index=['error', 'correct'], columns=['error', 'correct', 'absent'])\n",
    "print(\"===== ecoli_400K & Trimmomatic =====\")\n",
    "print(SNP)"
   ]
  },
  {
   "cell_type": "code",
   "execution_count": null,
   "id": "tribal-network",
   "metadata": {},
   "outputs": [],
   "source": []
  }
 ],
 "metadata": {
  "kernelspec": {
   "display_name": "Python 3",
   "language": "python",
   "name": "python3"
  },
  "language_info": {
   "codemirror_mode": {
    "name": "ipython",
    "version": 3
   },
   "file_extension": ".py",
   "mimetype": "text/x-python",
   "name": "python",
   "nbconvert_exporter": "python",
   "pygments_lexer": "ipython3",
   "version": "3.8.5"
  }
 },
 "nbformat": 4,
 "nbformat_minor": 5
}
