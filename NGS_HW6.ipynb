{
 "cells": [
  {
   "cell_type": "markdown",
   "id": "backed-electron",
   "metadata": {},
   "source": [
    "### Команды для сборки\n",
    "\n",
    "Pacbio с помощью Flye, illumina и кросс-сборка с помощью SPAdes\n",
    "\n",
    "flye --pacbio-raw pacbio_10x.fq.gz --out-dir pacbio_10x --threads 6\n",
    "\n",
    "flye --pacbio-raw pacbio_20x.fq.gz --out-dir pacbio_20x --threads 6\n",
    "\n",
    "flye --pacbio-raw pacbio_40x.fq.gz --out-dir pacbio_40x --threads 6\n",
    "\n",
    "flye --pacbio-raw pacbio_80x.fq.gz --out-dir pacbio_80x --threads 6\n",
    "\n",
    "spades.py -1 illumina.100x.1.fq.gz -2 illumina.100x.2.fq.gz\t-o illumina\t-t 6 -m 22\n",
    "\n",
    "spades.py -1 illumina.100x.1.fq.gz -2 illumina.100x.2.fq.gz --pacbio pacbio_10x.fq.gz -o cross_10 -t 6 -m 22\n",
    "\n",
    "spades.py -1 illumina.100x.1.fq.gz -2 illumina.100x.2.fq.gz --pacbio pacbio_20x.fq.gz -o cross_20 -t 6 -m 22\n",
    "\n",
    "spades.py -1 illumina.100x.1.fq.gz -2 illumina.100x.2.fq.gz --pacbio pacbio_40x.fq.gz -o cross_40 -t 6 -m 22\n",
    "\n",
    "spades.py -1 illumina.100x.1.fq.gz -2 illumina.100x.2.fq.gz --pacbio pacbio_80x.fq.gz -o cross_80 -t 6 -m 22"
   ]
  },
  {
   "cell_type": "markdown",
   "id": "vertical-norfolk",
   "metadata": {},
   "source": [
    "### QUAST\n",
    "\n",
    "quast.py -r reference.fasta -m 50 -t 6 illumina/scaffolds.fasta pacbio_10x/assembly.fasta pacbio_20x/assembly.fasta pacbio_40x/assembly.fasta pacbio_80x/assembly.fasta cross_10/scaffolds.fasta cross_20/scaffolds.fasta cross_40/scaffolds.fasta cross_80/scaffolds.fasta"
   ]
  },
  {
   "attachments": {},
   "cell_type": "markdown",
   "id": "alive-wheel",
   "metadata": {},
   "source": [
    "![](img_hw6/quast_stats.png)"
   ]
  },
  {
   "cell_type": "markdown",
   "id": "sophisticated-softball",
   "metadata": {},
   "source": [
    "У illumina гораздо короче контиги и их больше, хуже значения NGA50, LGA50. При этом при сборке коротких ридов нет мизассемблов. Невысокий процент mismatch ошибок, но есть участки N за счет объединения контигов в скаффолды. Инделов практически нет. Осталось непокрыто порядка 2% генома\n",
    "\n",
    "Если использовать только pacbio риды, то надо иметь достаточно большую глубину секвенирования, чтобы обеспечить глубину покрытия и исправления ошибок. При малой глубине покрытия очень много ошибок (как mismatch, так и инделов). Также сборка из длинных ридов приводит к образованию мизассемблов. \n",
    "\n",
    "Глубокое покрытие pacbio делать дорого. Можно сделать библиотеку коротких прочтений illumina и неглубокое покрытие pacbio для закрытия гэпов. Это помогает объединить короткие контиги от illumina в более длинные и закрыть сложные для сборки участки. При кросс-сборке лучшее значение duplication ratio = 1."
   ]
  },
  {
   "cell_type": "markdown",
   "id": "satellite-mercy",
   "metadata": {},
   "source": [
    "![](img_hw6/quast_icarus.png)"
   ]
  }
 ],
 "metadata": {
  "kernelspec": {
   "display_name": "Python 3",
   "language": "python",
   "name": "python3"
  },
  "language_info": {
   "codemirror_mode": {
    "name": "ipython",
    "version": 3
   },
   "file_extension": ".py",
   "mimetype": "text/x-python",
   "name": "python",
   "nbconvert_exporter": "python",
   "pygments_lexer": "ipython3",
   "version": "3.8.5"
  }
 },
 "nbformat": 4,
 "nbformat_minor": 5
}
