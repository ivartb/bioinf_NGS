{
 "cells": [
  {
   "cell_type": "markdown",
   "id": "legitimate-cutting",
   "metadata": {},
   "source": [
    "### 1\n",
    "\n",
    "hisat2-build -p 6 ref.fa ref\n",
    "\n",
    "hisat2 -p 6 -x ref -1 SRR453566_1.fastq -2 SRR453566_2.fastq -S aligned.sam\n",
    "\n",
    "### 2\n",
    "\n",
    "3554 genes expressed at level greater than median across dataset (TPM>36)\n",
    "\n",
    "6648 genes expressed at level TPM>5\n",
    "\n",
    "### 3\n",
    "\n",
    "rnaspades.py -1 SRR453566_1.fastq -2 SRR453566_2.fastq -t 6 -m 15 -o asm\n",
    "\n",
    "rnaQUAST.py -r ref.fa --gtf genes.gtf -c asm/transcripts.fasta -t 6 -o asm_quast\n",
    "\n",
    "#### 95%-assembled genes: 3724\n",
    "\n",
    "#### 95%-covered genes: 3831\n",
    "\n",
    "### Выводы:\n",
    "\n",
    "Выше среднего экспрессируется примерно столько же генов, сколько получается покрыто при сборке.\n",
    "\n",
    "При этом выравнивание генов на референс удобнее использовать при сравнительном анализе, так как не надо выбирать абсолютные отсечки TPM (FPKM), а только сравнивать относительные уровни экспрессии в разных образцах."
   ]
  },
  {
   "cell_type": "code",
   "execution_count": 3,
   "id": "stopped-windows",
   "metadata": {},
   "outputs": [],
   "source": [
    "import pysam\n",
    "from Bio import SeqIO\n",
    "import numpy as np\n",
    "import pandas as pd\n",
    "import matplotlib.pyplot as plt\n",
    "from collections import Counter\n",
    "import gffutils"
   ]
  },
  {
   "cell_type": "code",
   "execution_count": 6,
   "id": "reflected-columbia",
   "metadata": {},
   "outputs": [],
   "source": [
    "samfile = pysam.AlignmentFile(\"aligned_sorted.bam\", \"rb\")\n",
    "genome = next(SeqIO.parse(\"ref.fa\", \"fasta\")).seq\n",
    "#db = gffutils.create_db(\"genes.gtf\", dbfn='genes.db', merge_strategy=\"create_unique\")\n",
    "db = gffutils.FeatureDB('genes.db')"
   ]
  },
  {
   "cell_type": "code",
   "execution_count": 10,
   "id": "intense-crowd",
   "metadata": {
    "collapsed": true
   },
   "outputs": [],
   "source": [
    "\n",
    "for f in db.features_of_type(featuretype=\"gene\"):\n",
    "    help(f)\n",
    "    break"
   ]
  },
  {
   "cell_type": "code",
   "execution_count": 22,
   "id": "portable-colors",
   "metadata": {
    "collapsed": true
   },
   "outputs": [],
   "source": [
    "rpks = []\n",
    "covs = []\n",
    "\n",
    "for f in db.features_of_type(featuretype=\"gene\"):\n",
    "    id = f.seqid\n",
    "    start = f.start\n",
    "    end = f.end\n",
    "    l = end - start\n",
    "    cov = [0] * l\n",
    "    reads = set()\n",
    "    for x in samfile.pileup(id, start=start-1, end=end-1, truncate=True):\n",
    "        reads.update(x.get_query_names())\n",
    "        cov[x.pos-start] = x.get_num_aligned()\n",
    "    #print(start, end, l, len(cov))\n",
    "    covs.append(np.count_nonzero(cov)/len(cov))\n",
    "    rpks.append(len(reads) / l * 1000)\n",
    "\n",
    "\n",
    "print(rpks)\n",
    "print(covs)"
   ]
  },
  {
   "cell_type": "code",
   "execution_count": 64,
   "id": "correct-softball",
   "metadata": {},
   "outputs": [],
   "source": [
    "total = sum(rpks)\n",
    "tpms = [i*1000000/total for i in rpks]"
   ]
  },
  {
   "cell_type": "code",
   "execution_count": 67,
   "id": "pleased-workshop",
   "metadata": {},
   "outputs": [
    {
     "name": "stdout",
     "output_type": "stream",
     "text": [
      "3554 genes expressed at level greater than median across dataset (TPM>36)\n",
      "6648 genes expressed at level TPM>5\n"
     ]
    }
   ],
   "source": [
    "good = 0\n",
    "for a, b in zip(covs, tpms):\n",
    "    if a > 0.95 and b > np.median(tpms):\n",
    "        good += 1\n",
    "print(good, f\"genes expressed at level greater than median across dataset (TPM>{round(np.median(tpms))})\")\n",
    "\n",
    "good = 0\n",
    "for a, b in zip(covs, tpms):\n",
    "    if a > 0.95 and b > 5:\n",
    "        good += 1\n",
    "print(good, \"genes expressed at level TPM>5\")"
   ]
  },
  {
   "cell_type": "code",
   "execution_count": 68,
   "id": "detected-wallet",
   "metadata": {},
   "outputs": [
    {
     "name": "stdout",
     "output_type": "stream",
     "text": [
      "DescribeResult(nobs=7126, minmax=(0.0, 14324.144080758128), mean=140.3311815885493, variance=245698.57881147997, skewness=12.276874842238056, kurtosis=239.52753202519852)\n",
      "[0.00000000e+00 3.88185042e+00 7.98434591e+00 1.16021856e+01\n",
      " 1.45774065e+01 1.75650965e+01 2.06601237e+01 2.36098575e+01\n",
      " 2.71844346e+01 3.08583660e+01 3.56902171e+01 4.10673224e+01\n",
      " 4.77948289e+01 5.62443447e+01 6.78738705e+01 8.40751776e+01\n",
      " 1.07715519e+02 1.51235157e+02 2.34526252e+02 5.22741372e+02\n",
      " 1.43241441e+04]\n",
      "35.690217127804075\n"
     ]
    }
   ],
   "source": [
    "import matplotlib.pyplot as plt\n",
    "from scipy import stats\n",
    "\n",
    "print(stats.describe(tpms))\n",
    "print(np.percentile(tpms, range(0, 101, 5)))\n",
    "print(np.median(tpms))"
   ]
  },
  {
   "cell_type": "code",
   "execution_count": null,
   "id": "worst-shift",
   "metadata": {},
   "outputs": [],
   "source": []
  }
 ],
 "metadata": {
  "kernelspec": {
   "display_name": "Python 3",
   "language": "python",
   "name": "python3"
  },
  "language_info": {
   "codemirror_mode": {
    "name": "ipython",
    "version": 3
   },
   "file_extension": ".py",
   "mimetype": "text/x-python",
   "name": "python",
   "nbconvert_exporter": "python",
   "pygments_lexer": "ipython3",
   "version": "3.8.5"
  }
 },
 "nbformat": 4,
 "nbformat_minor": 5
}
